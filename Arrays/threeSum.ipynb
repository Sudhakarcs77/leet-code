{
 "cells": [
  {
   "cell_type": "markdown",
   "metadata": {},
   "source": [
    "## Three Number Sum\n",
    "\n",
    "### given array [12, 3, 1, 2, -6, 5, -8, 6], target = 0\n",
    "### return [[-8, 2, 6], [-8, 3, 5], [-6, 1, 5]]"
   ]
  },
  {
   "cell_type": "markdown",
   "metadata": {},
   "source": [
    "\n",
    "\n",
    "- using for loops - require 3 loops : O(n^3) T, O(1) S\n",
    "- using hash table - 1 daictionary + 2 loops : O(n^2) T , O(n) S\n",
    "- using array manipulation- sort + left , right pointers: O(n log n)\n"
   ]
  },
  {
   "cell_type": "code",
   "execution_count": 1,
   "metadata": {},
   "outputs": [
    {
     "name": "stdout",
     "output_type": "stream",
     "text": [
      "[-8, -6, 1, 2, 3, 5, 6, 12]\n"
     ]
    },
    {
     "data": {
      "text/plain": [
       "[[-8, 2, 6], [-8, 3, 5], [-6, 1, 5]]"
      ]
     },
     "execution_count": 1,
     "metadata": {},
     "output_type": "execute_result"
    }
   ],
   "source": [
    "def threeSum(arr,target):\n",
    "    result =[]\n",
    "    arr.sort()\n",
    "    print(arr)\n",
    "    \n",
    "    \n",
    "    for curNum in range(len(arr)-2):\n",
    "        l,r = curNum+1,len(arr)-1\n",
    "        while l<r:\n",
    "            curSum = arr[curNum] + arr[l] + arr[r] \n",
    "            if curSum == target:\n",
    "                result.append([arr[curNum], arr[l], arr[r]])\n",
    "                l += 1\n",
    "                r -= 1\n",
    "            if curSum < target:\n",
    "                l += 1\n",
    "            elif curSum > target:\n",
    "                r -= 1\n",
    "    return result\n",
    "\n",
    "\n",
    "n = [12, 3, 1, 2, -6, 5, -8, 6]\n",
    "t = 0\n",
    "\n",
    "threeSum(n, t)\n",
    "\n",
    "# O(n^2)T, O(n)S"
   ]
  },
  {
   "cell_type": "code",
   "execution_count": null,
   "metadata": {},
   "outputs": [],
   "source": []
  }
 ],
 "metadata": {
  "kernelspec": {
   "display_name": "Python 3",
   "language": "python",
   "name": "python3"
  },
  "language_info": {
   "codemirror_mode": {
    "name": "ipython",
    "version": 3
   },
   "file_extension": ".py",
   "mimetype": "text/x-python",
   "name": "python",
   "nbconvert_exporter": "python",
   "pygments_lexer": "ipython3",
   "version": "3.12.7"
  }
 },
 "nbformat": 4,
 "nbformat_minor": 2
}
