{
 "cells": [
  {
   "cell_type": "code",
   "execution_count": 3,
   "metadata": {},
   "outputs": [],
   "source": [
    "n = [3,5,-4,8,11,1,-1,6]\n",
    "t = 10"
   ]
  },
  {
   "cell_type": "code",
   "execution_count": 6,
   "metadata": {},
   "outputs": [
    {
     "data": {
      "text/plain": [
       "[4, 6]"
      ]
     },
     "execution_count": 6,
     "metadata": {},
     "output_type": "execute_result"
    }
   ],
   "source": [
    "# using 2 for loops \n",
    "def twoSum(n,t):\n",
    "    for i in range(len(n)):\n",
    "        for j in range(i+1,len(n)):\n",
    "            if n[i]+n[j] == t:\n",
    "                return [i,j]\n",
    "\n",
    "    return []\n",
    "\n",
    "twoSum(n,t)\n",
    "\n",
    "# O(n^2) T , O(1)T\n",
    "        "
   ]
  },
  {
   "cell_type": "code",
   "execution_count": 4,
   "metadata": {},
   "outputs": [
    {
     "data": {
      "text/plain": [
       "[11, -1]"
      ]
     },
     "execution_count": 4,
     "metadata": {},
     "output_type": "execute_result"
    }
   ],
   "source": [
    "# Using Dictionary\n",
    "\n",
    "\n",
    "def twoSum(n,t):\n",
    "    d = {}\n",
    "    for i in n:\n",
    "        if t - i in d:\n",
    "            return [d[t - i], i]\n",
    "        d[i] = i\n",
    "    return []\n",
    "\n",
    "n = [3,5,-4,8,11,1,-1,6]\n",
    "t = 10\n",
    "\n",
    "twoSum(n,t)\n",
    "\n",
    "# O(n) T, O(n) S"
   ]
  },
  {
   "cell_type": "code",
   "execution_count": 15,
   "metadata": {},
   "outputs": [
    {
     "name": "stdout",
     "output_type": "stream",
     "text": [
      "[-4, -1, 1, 3, 5, 6, 8, 11]\n"
     ]
    },
    {
     "data": {
      "text/plain": [
       "(-1, 11)"
      ]
     },
     "execution_count": 15,
     "metadata": {},
     "output_type": "execute_result"
    }
   ],
   "source": [
    "# Using Sort\n",
    "\n",
    "\n",
    "def twoSum(n,t):\n",
    "    sorted(n) # not change original order\n",
    "    n.sort()\n",
    "    print(n)\n",
    "    l,r = 0,len(n)-1\n",
    "    while l < r:\n",
    "        #print(l,r)\n",
    "        if n[l] + n[r] == t:\n",
    "            #print(n[l] , n[r])\n",
    "            return n[l] , n[r]\n",
    "        elif n[l] + n[r] < t:\n",
    "            l += 1\n",
    "        else:\n",
    "            r -= 1\n",
    "\n",
    "\n",
    "n = [3,5,-4,8,11,1,-1,6]\n",
    "t = 10\n",
    "\n",
    "twoSum(n,t)\n",
    "\n",
    "\n",
    "O(n log n + n) = O(n log n)"
   ]
  },
  {
   "cell_type": "code",
   "execution_count": null,
   "metadata": {},
   "outputs": [],
   "source": []
  }
 ],
 "metadata": {
  "kernelspec": {
   "display_name": "Python 3",
   "language": "python",
   "name": "python3"
  },
  "language_info": {
   "codemirror_mode": {
    "name": "ipython",
    "version": 3
   },
   "file_extension": ".py",
   "mimetype": "text/x-python",
   "name": "python",
   "nbconvert_exporter": "python",
   "pygments_lexer": "ipython3",
   "version": "3.12.7"
  }
 },
 "nbformat": 4,
 "nbformat_minor": 2
}
